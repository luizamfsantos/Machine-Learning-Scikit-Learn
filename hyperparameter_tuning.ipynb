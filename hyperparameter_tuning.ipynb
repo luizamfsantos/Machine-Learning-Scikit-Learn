{
 "cells": [
  {
   "cell_type": "code",
   "execution_count": null,
   "metadata": {},
   "outputs": [],
   "source": [
    "from sklearn.pipeline import Pipeline\n",
    "from sklearn.preprocessing import StandardScaler\n",
    "from sklearn.decomposition import PCA\n",
    "from sklearn.ensemble import RandomForestClassifier\n",
    "from sklearn.model_selection import GridSearchCV\n",
    "\n",
    "# Define the steps\n",
    "scaler = StandardScaler()\n",
    "pca = PCA()\n",
    "clf = RandomForestClassifier()\n",
    "\n",
    "# Create the pipeline\n",
    "pipeline = Pipeline([\n",
    "    ('scaler', scaler),  # Data scaling\n",
    "    ('pca', pca),        # PCA for feature reduction\n",
    "    ('clf', clf)         # Random Forest Classifier\n",
    "])\n",
    "\n",
    "# Define hyperparameters to search over\n",
    "param_grid = {\n",
    "    'pca__n_components': [5, 10, 15],\n",
    "    'clf__n_estimators': [100, 200, 300]\n",
    "}\n",
    "\n",
    "# Grid search with cross-validation\n",
    "grid_search = GridSearchCV(pipeline, param_grid=param_grid, cv=5)\n",
    "grid_search.fit(X_train, y_train)\n",
    "\n",
    "# Best parameters and estimator\n",
    "best_params = grid_search.best_params_\n",
    "best_estimator = grid_search.best_estimator_\n",
    "\n",
    "# Make predictions using the best estimator\n",
    "y_pred = best_estimator.predict(X_test)\n"
   ]
  }
 ],
 "metadata": {
  "language_info": {
   "name": "python"
  },
  "orig_nbformat": 4
 },
 "nbformat": 4,
 "nbformat_minor": 2
}
