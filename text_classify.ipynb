{
 "cells": [
  {
   "cell_type": "code",
   "execution_count": null,
   "metadata": {},
   "outputs": [],
   "source": [
    "from sklearn.pipeline import Pipeline\n",
    "from sklearn.feature_extraction.text import TfidfVectorizer\n",
    "from sklearn.naive_bayes import MultinomialNB\n",
    "\n",
    "# Define the steps\n",
    "tfidf_vectorizer = TfidfVectorizer()\n",
    "model = MultinomialNB()\n",
    "\n",
    "# Create the pipeline\n",
    "pipeline = Pipeline([\n",
    "    ('tfidf', tfidf_vectorizer),  # TF-IDF vectorization\n",
    "    ('model', model)             # Naive Bayes Classifier\n",
    "])\n",
    "\n",
    "# Train the pipeline\n",
    "pipeline.fit(X_train_text, y_train)\n",
    "\n",
    "# Make predictions\n",
    "y_pred = pipeline.predict(X_test_text)\n"
   ]
  }
 ],
 "metadata": {
  "language_info": {
   "name": "python"
  },
  "orig_nbformat": 4
 },
 "nbformat": 4,
 "nbformat_minor": 2
}
